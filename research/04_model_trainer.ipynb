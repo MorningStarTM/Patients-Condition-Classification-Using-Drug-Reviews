{
 "cells": [
  {
   "cell_type": "code",
   "execution_count": 1,
   "metadata": {},
   "outputs": [
    {
     "data": {
      "text/plain": [
       "'e:\\\\github_clone\\\\Patients-Condition-Classification-Using-Drug-Reviews\\\\research'"
      ]
     },
     "execution_count": 1,
     "metadata": {},
     "output_type": "execute_result"
    }
   ],
   "source": [
    "%pwd"
   ]
  },
  {
   "cell_type": "code",
   "execution_count": 11,
   "metadata": {},
   "outputs": [],
   "source": [
    "import os\n",
    "import torch.nn as nn\n",
    "import torch"
   ]
  },
  {
   "cell_type": "code",
   "execution_count": 3,
   "metadata": {},
   "outputs": [],
   "source": [
    "os.chdir('../')"
   ]
  },
  {
   "cell_type": "code",
   "execution_count": 21,
   "metadata": {},
   "outputs": [],
   "source": [
    "from dataclasses import dataclass\n",
    "from pathlib import Path\n",
    "\n",
    "\n",
    "@dataclass(frozen=True)\n",
    "class ModelTrainerConfig:\n",
    "    root_dir: Path\n",
    "    data_path: Path\n",
    "    model_ckpt: Path\n",
    "    epochs: int\n",
    "    num_classes: int\n",
    "    lr: float\n",
    "    weights: dict\n",
    "    batch: int\n",
    "    "
   ]
  },
  {
   "cell_type": "code",
   "execution_count": 7,
   "metadata": {},
   "outputs": [],
   "source": [
    "from PatientConditonClassification.constants import *\n",
    "from PatientConditonClassification.utils.common import read_yaml, create_directories"
   ]
  },
  {
   "cell_type": "code",
   "execution_count": 22,
   "metadata": {},
   "outputs": [],
   "source": [
    "class ConfigurationManager:\n",
    "    def __init__(\n",
    "        self,\n",
    "        config_filepath = CONFIG_FILE_PATH,\n",
    "        params_filepath = PARAMS_FILE_PATH):\n",
    "\n",
    "        self.config = read_yaml(config_filepath)\n",
    "        self.params = read_yaml(params_filepath)\n",
    "\n",
    "        create_directories([self.config.artifacts_root])\n",
    "\n",
    "\n",
    "    \n",
    "    def get_model_trainer_config(self) -> ModelTrainerConfig:\n",
    "        config = self.config.model_trainer\n",
    "        params = self.params.TrainingArguments\n",
    "\n",
    "        create_directories([config.root_dir])\n",
    "\n",
    "        model_trainer_config = ModelTrainerConfig(\n",
    "            root_dir=config.root_dir,\n",
    "            data_path=config.data_path,\n",
    "            model_ckpt = config.model_ckpt,\n",
    "            epochs=params.epochs,\n",
    "            num_classes=params.num_classes,\n",
    "            lr=params.lr,\n",
    "            weights=config.weights,\n",
    "            batch=params.batch\n",
    "        )\n",
    "        return model_trainer_config"
   ]
  },
  {
   "cell_type": "code",
   "execution_count": 20,
   "metadata": {},
   "outputs": [],
   "source": [
    "from transformers import DistilBertModel, DistilBertTokenizer\n",
    "from sklearn.utils.class_weight import compute_class_weight\n",
    "from torch.utils.data import TensorDataset, DataLoader, RandomSampler, SequentialSampler\n",
    "from transformers import AdamW\n",
    "import numpy as np\n",
    "import pickle"
   ]
  },
  {
   "cell_type": "code",
   "execution_count": 5,
   "metadata": {},
   "outputs": [],
   "source": [
    "class DistilBERT_Arch(nn.Module):\n",
    "    def __init__(self, distilbert, num_classes=5):\n",
    "        super(DistilBERT_Arch, self).__init__()\n",
    "        self.distilbert = distilbert\n",
    "        self.dropout = nn.Dropout(0.1)\n",
    "        self.relu = nn.ReLU()\n",
    "        self.fc1 = nn.Linear(768, 512)  # Assuming DistilBERT's hidden size is 768\n",
    "        self.fc2 = nn.Linear(512, num_classes)  # Output layer with num_classes output units\n",
    "        self.softmax = nn.LogSoftmax(dim=1)\n",
    "\n",
    "    def forward(self, sent_id, mask):\n",
    "        distilbert_output = self.distilbert(sent_id, attention_mask=mask, return_dict=True)\n",
    "        cls_hs = distilbert_output['last_hidden_state'][:, 0, :]  # Extract the [CLS] token representation\n",
    "        x = self.fc1(cls_hs)\n",
    "        x = self.relu(x)\n",
    "        x = self.dropout(x)\n",
    "        x = self.fc2(x)\n",
    "        x = self.softmax(x)\n",
    "        return x\n"
   ]
  },
  {
   "cell_type": "code",
   "execution_count": null,
   "metadata": {},
   "outputs": [],
   "source": [
    "class ModelTrainer:\n",
    "    def __init__(self, config: ModelTrainerConfig):\n",
    "        self.config = config\n",
    "        self.device = \"cuda\" if torch.cuda.is_available() else \"cpu\"\n",
    "        self.files = ['train', 'val']\n",
    "\n",
    "    def initiate_model(self):\n",
    "        distilbert_model = DistilBertModel.from_pretrained(self.config.model_ckpt)\n",
    "        model = DistilBERT_Arch(distilbert_model, self.config.num_classes)\n",
    "        model = model.to(self.device)\n",
    "        optimizer = AdamW(model.parameters(), lr=self.config.lr)\n",
    "    \n",
    "    def call_data(self):\n",
    "        for i in range(len(self.files)):\n",
    "            with open(Path(os.path.join(self.config.data_path,self.files[i],'preprocessed_data.pkl')), 'rb') as f:\n",
    "                processed_data = pickle.load(f)\n",
    "            seq = processed_data['seq']\n",
    "            mask = processed_data['mask']\n",
    "            label = processed_data['label']\n",
    "            \n",
    "            train_data = TensorDataset(seq, mask, label)\n",
    "            train_sampler = RandomSampler(train_data)\n",
    "            train_dataloader = DataLoader(train_data, sampler=train_sampler, batch_size=self.config.batch)\n",
    "\n",
    "    def train(self):\n",
    "        self.model.train()\n",
    "        total_loss, total_accuracy = 0, 0\n",
    "        total_preds=[]\n",
    "        for step,batch in enumerate(train_dataloader):"
   ]
  },
  {
   "cell_type": "code",
   "execution_count": null,
   "metadata": {},
   "outputs": [],
   "source": []
  }
 ],
 "metadata": {
  "kernelspec": {
   "display_name": "PCC",
   "language": "python",
   "name": "python3"
  },
  "language_info": {
   "codemirror_mode": {
    "name": "ipython",
    "version": 3
   },
   "file_extension": ".py",
   "mimetype": "text/x-python",
   "name": "python",
   "nbconvert_exporter": "python",
   "pygments_lexer": "ipython3",
   "version": "3.8.0"
  }
 },
 "nbformat": 4,
 "nbformat_minor": 2
}
