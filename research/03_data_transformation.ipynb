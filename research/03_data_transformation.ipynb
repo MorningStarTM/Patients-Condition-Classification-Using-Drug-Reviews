{
 "cells": [
  {
   "cell_type": "code",
   "execution_count": 4,
   "metadata": {},
   "outputs": [],
   "source": [
    "import os"
   ]
  },
  {
   "cell_type": "code",
   "execution_count": 5,
   "metadata": {},
   "outputs": [
    {
     "data": {
      "text/plain": [
       "'e:\\\\github_clone\\\\Patients-Condition-Classification-Using-Drug-Reviews\\\\research'"
      ]
     },
     "execution_count": 5,
     "metadata": {},
     "output_type": "execute_result"
    }
   ],
   "source": [
    "%pwd"
   ]
  },
  {
   "cell_type": "code",
   "execution_count": 6,
   "metadata": {},
   "outputs": [],
   "source": [
    "os.chdir('../')"
   ]
  },
  {
   "cell_type": "code",
   "execution_count": 7,
   "metadata": {},
   "outputs": [
    {
     "data": {
      "text/plain": [
       "'e:\\\\github_clone\\\\Patients-Condition-Classification-Using-Drug-Reviews'"
      ]
     },
     "execution_count": 7,
     "metadata": {},
     "output_type": "execute_result"
    }
   ],
   "source": [
    "%pwd"
   ]
  },
  {
   "cell_type": "code",
   "execution_count": 8,
   "metadata": {},
   "outputs": [],
   "source": [
    "from dataclasses import dataclass\n",
    "from pathlib import Path\n",
    "\n",
    "@dataclass(frozen=True)\n",
    "class DataTransformationconfig:\n",
    "    root_dir: Path\n",
    "    data_path: Path\n",
    "    tokenizer_name: Path"
   ]
  },
  {
   "cell_type": "code",
   "execution_count": 9,
   "metadata": {},
   "outputs": [],
   "source": [
    "from PatientConditonClassification.constants import *\n",
    "from PatientConditonClassification.utils.common import read_yaml, create_directories\n",
    "import torch\n",
    "from sklearn.utils.class_weight import compute_class_weight\n",
    "import torch.nn as nn"
   ]
  },
  {
   "cell_type": "code",
   "execution_count": 10,
   "metadata": {},
   "outputs": [],
   "source": [
    "class ConfigurationManager:\n",
    "    def __init__(\n",
    "            self, \n",
    "            config_filepath = CONFIG_FILE_PATH,\n",
    "            params_filepath = PARAMS_FILE_PATH):\n",
    "        self.config = read_yaml(config_filepath)\n",
    "        self.params = read_yaml(params_filepath)\n",
    "        \n",
    "        create_directories([self.config.artifacts_root])\n",
    "\n",
    "    def get_data_transformation_config(self) -> DataTransformationconfig:\n",
    "        config = self.config.data_transformation\n",
    "\n",
    "        create_directories([config.root_dir])\n",
    "\n",
    "        data_transformation_config = DataTransformationconfig(\n",
    "            root_dir=config.root_dir,\n",
    "            data_path=config.data_path,\n",
    "            tokenizer_name=config.tokenizer_name\n",
    "        )\n",
    "        return data_transformation_config"
   ]
  },
  {
   "cell_type": "code",
   "execution_count": 11,
   "metadata": {},
   "outputs": [
    {
     "name": "stderr",
     "output_type": "stream",
     "text": [
      "c:\\Users\\Ernest\\.conda\\envs\\PCC\\lib\\site-packages\\tqdm\\auto.py:21: TqdmWarning: IProgress not found. Please update jupyter and ipywidgets. See https://ipywidgets.readthedocs.io/en/stable/user_install.html\n",
      "  from .autonotebook import tqdm as notebook_tqdm\n"
     ]
    }
   ],
   "source": [
    "from transformers import DistilBertModel, DistilBertTokenizer"
   ]
  },
  {
   "cell_type": "code",
   "execution_count": 12,
   "metadata": {},
   "outputs": [],
   "source": [
    "from torch.utils.data import TensorDataset, DataLoader, RandomSampler, SequentialSampler\n",
    "import pickle\n",
    "import pandas as pd\n",
    "import numpy as np\n",
    "import json"
   ]
  },
  {
   "cell_type": "code",
   "execution_count": 20,
   "metadata": {},
   "outputs": [],
   "source": [
    "class DataTransformation:\n",
    "    def __init__(self, batch, config= DataTransformationconfig):\n",
    "        self.config = config\n",
    "        self.tokenizer = DistilBertTokenizer.from_pretrained(config.tokenizer_name)\n",
    "        self.batch = batch\n",
    "        self.files = ['test', 'train', 'val']\n",
    "        self.mapping = {'Depression':0, 'Pain':1, 'Anxiety':2, 'Acne':3, 'Birth Control':4}\n",
    "        #self.device = \"cuda\" if torch.cuda.is_available() else \"cpu\"\n",
    "        \n",
    "    def convert_sample_to_feature(self, sample_batch, labels):\n",
    "        tokens_train = self.tokenizer.batch_encode_plus(\n",
    "                        sample_batch.tolist(),\n",
    "                        max_length = 512,\n",
    "                        pad_to_max_length=True,\n",
    "                        truncation=True,\n",
    "                        return_token_type_ids=False\n",
    "                    )\n",
    "        seq = torch.tensor(tokens_train['input_ids'])\n",
    "        mask = torch.tensor(tokens_train['attention_mask'])\n",
    "        label = torch.tensor(labels.tolist())\n",
    "\n",
    "        train_data = TensorDataset(seq, mask, label)\n",
    "        train_sampler = RandomSampler(train_data)\n",
    "        train_dataloader = DataLoader(train_data, sampler=train_sampler, batch_size=self.batch)\n",
    "\n",
    "        return seq, mask, label\n",
    "\n",
    "    def save_transformed_data(self):\n",
    "        for i in range(3):\n",
    "            df = pd.read_csv(os.path.join(self.config.data_path, self.files[i], 'drug_review.csv'))\n",
    "            labels = df['condition'].map(self.mapping)\n",
    "            seq, mask, label = self.convert_sample_to_feature(sample_batch=df['review'], labels=labels)\n",
    "            \n",
    "            if self.files[i] == \"train\":\n",
    "                class_weights = compute_class_weight(\n",
    "                                                class_weight = \"balanced\",\n",
    "                                                classes = np.unique(df['condition']),\n",
    "                                                y = df['condition']\n",
    "                                            )\n",
    "                class_weights = dict(zip(np.unique(df['condition']), class_weights))\n",
    "\n",
    "                with open(Path(os.path.join(self.config.root_dir, \"class_weights.json\")), 'w') as json_file:\n",
    "                    json.dump(class_weights, json_file, indent=2)\n",
    "\n",
    "            create_directories([Path(os.path.join(self.config.root_dir, \"drug_review\", self.files[i]))])\n",
    "            output_file = Path(os.path.join(self.config.root_dir,'drug_review',str(self.files[i]), 'processed_data.pkl'))\n",
    "            \n",
    "            with open(output_file, 'wb') as f:\n",
    "                processed_data = {'seq': seq, 'mask': mask, 'label': label}\n",
    "                pickle.dump(processed_data, f)"
   ]
  },
  {
   "cell_type": "code",
   "execution_count": 21,
   "metadata": {},
   "outputs": [
    {
     "name": "stdout",
     "output_type": "stream",
     "text": [
      "[2023-11-15 20:46:31,611: INFO: common: yaml file: config\\config.yaml loaded successfully]\n",
      "[2023-11-15 20:46:31,612: INFO: common: yaml file: params.yaml loaded successfully]\n",
      "[2023-11-15 20:46:31,612: INFO: common: created directory at: artifacts]\n",
      "[2023-11-15 20:46:31,612: INFO: common: created directory at: artifacts/data_transformation]\n"
     ]
    },
    {
     "name": "stderr",
     "output_type": "stream",
     "text": [
      "c:\\Users\\Ernest\\.conda\\envs\\PCC\\lib\\site-packages\\transformers\\tokenization_utils_base.py:2614: FutureWarning: The `pad_to_max_length` argument is deprecated and will be removed in a future version, use `padding=True` or `padding='longest'` to pad to the longest sequence in the batch, or use `padding='max_length'` to pad to a max length. In this case, you can give a specific length with `max_length` (e.g. `max_length=45`) or leave max_length to None to pad to the maximal input size of the model (e.g. 512 for Bert).\n",
      "  warnings.warn(\n"
     ]
    },
    {
     "name": "stdout",
     "output_type": "stream",
     "text": [
      "[2023-11-15 20:47:07,626: INFO: common: created directory at: artifacts\\data_transformation\\drug_review\\test]\n"
     ]
    },
    {
     "name": "stderr",
     "output_type": "stream",
     "text": [
      "c:\\Users\\Ernest\\.conda\\envs\\PCC\\lib\\site-packages\\transformers\\tokenization_utils_base.py:2614: FutureWarning: The `pad_to_max_length` argument is deprecated and will be removed in a future version, use `padding=True` or `padding='longest'` to pad to the longest sequence in the batch, or use `padding='max_length'` to pad to a max length. In this case, you can give a specific length with `max_length` (e.g. `max_length=45`) or leave max_length to None to pad to the maximal input size of the model (e.g. 512 for Bert).\n",
      "  warnings.warn(\n"
     ]
    },
    {
     "name": "stdout",
     "output_type": "stream",
     "text": [
      "[2023-11-15 20:47:46,069: INFO: common: created directory at: artifacts\\data_transformation\\drug_review\\train]\n"
     ]
    },
    {
     "name": "stderr",
     "output_type": "stream",
     "text": [
      "c:\\Users\\Ernest\\.conda\\envs\\PCC\\lib\\site-packages\\transformers\\tokenization_utils_base.py:2614: FutureWarning: The `pad_to_max_length` argument is deprecated and will be removed in a future version, use `padding=True` or `padding='longest'` to pad to the longest sequence in the batch, or use `padding='max_length'` to pad to a max length. In this case, you can give a specific length with `max_length` (e.g. `max_length=45`) or leave max_length to None to pad to the maximal input size of the model (e.g. 512 for Bert).\n",
      "  warnings.warn(\n"
     ]
    },
    {
     "name": "stdout",
     "output_type": "stream",
     "text": [
      "[2023-11-15 20:48:03,840: INFO: common: created directory at: artifacts\\data_transformation\\drug_review\\val]\n"
     ]
    }
   ],
   "source": [
    "try:\n",
    "    config = ConfigurationManager()\n",
    "    data_transformation_config = config.get_data_transformation_config()\n",
    "    data_transformation = DataTransformation(batch=32, config=data_transformation_config)\n",
    "    data_transformation.save_transformed_data()\n",
    "except Exception as e:\n",
    "    raise e"
   ]
  },
  {
   "cell_type": "code",
   "execution_count": null,
   "metadata": {},
   "outputs": [],
   "source": []
  }
 ],
 "metadata": {
  "kernelspec": {
   "display_name": "PCC",
   "language": "python",
   "name": "python3"
  },
  "language_info": {
   "codemirror_mode": {
    "name": "ipython",
    "version": 3
   },
   "file_extension": ".py",
   "mimetype": "text/x-python",
   "name": "python",
   "nbconvert_exporter": "python",
   "pygments_lexer": "ipython3",
   "version": "3.8.0"
  }
 },
 "nbformat": 4,
 "nbformat_minor": 2
}
